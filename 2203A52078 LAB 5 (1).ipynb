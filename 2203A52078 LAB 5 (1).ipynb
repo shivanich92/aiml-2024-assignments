{
 "cells": [
  {
   "cell_type": "code",
   "execution_count": 1,
   "metadata": {},
   "outputs": [],
   "source": [
    "def dfs(graph, start, visited):\n",
    "    print(start, end=' ')\n",
    "    visited[start] = True\n",
    "\n",
    "    for neighbor in graph[start]:\n",
    "        if not visited[neighbor]:\n",
    "            dfs(graph, neighbor, visited)"
   ]
  },
  {
   "cell_type": "code",
   "execution_count": 2,
   "metadata": {},
   "outputs": [],
   "source": [
    "# Adjacency list representation of the graph\n",
    "graph = {\n",
    "    1: [2, 3],\n",
    "    2: [1, 4],\n",
    "    3: [1, 5],\n",
    "    4: [2],\n",
    "    5: [3]\n",
    "}"
   ]
  },
  {
   "cell_type": "code",
   "execution_count": 3,
   "metadata": {},
   "outputs": [],
   "source": [
    "# Starting vertex\n",
    "start_vertex = 1"
   ]
  },
  {
   "cell_type": "code",
   "execution_count": 4,
   "metadata": {},
   "outputs": [],
   "source": [
    "# Visited array to keep track of visited vertices\n",
    "visited = {vertex: False for vertex in graph}"
   ]
  },
  {
   "cell_type": "code",
   "execution_count": 5,
   "metadata": {},
   "outputs": [
    {
     "name": "stdout",
     "output_type": "stream",
     "text": [
      "DFS traversal:\n",
      "1 2 4 3 5 "
     ]
    }
   ],
   "source": [
    "# DFS traversal\n",
    "print(\"DFS traversal:\")\n",
    "dfs(graph, start_vertex, visited)"
   ]
  },
  {
   "cell_type": "code",
   "execution_count": 5,
   "metadata": {},
   "outputs": [
    {
     "name": "stdout",
     "output_type": "stream",
     "text": [
      "DFS traversal (dfs2) starting from vertex A\n",
      "B A S C D E H G F "
     ]
    }
   ],
   "source": [
    "#definition\n",
    "\n",
    "def dfs2(graph, start):\n",
    "    stack = [(start, iter(graph[start]))]\n",
    "    visited = set()\n",
    "\n",
    "    while stack:\n",
    "        vertex, neighbors_iter = stack[-1]\n",
    "\n",
    "        try:\n",
    "            neighbor = next(neighbors_iter)\n",
    "            if neighbor not in visited:\n",
    "                print(neighbor, end=' ')\n",
    "                visited.add(neighbor)\n",
    "                stack.append((neighbor, iter(graph[neighbor])))\n",
    "        except StopIteration:\n",
    "            stack.pop()\n",
    "graph = {\n",
    "    'A': ['B', 'S'],\n",
    "    'B': ['A'],\n",
    "    'C': ['D', 'E', 'F', 'S'],\n",
    "    'D': ['C'],\n",
    "    'E': ['C', 'H'],\n",
    "    'F': ['C', 'G'],\n",
    "    'G': ['F', 'H', 'S'],\n",
    "    'H': ['E', 'G'],\n",
    "    'S': ['A', 'C', 'G']\n",
    "}\n",
    "# Starting vertex and applying DFS with the second implementation\n",
    "start_vertex = 'A'\n",
    "print(\"DFS traversal (dfs2) starting from vertex\", start_vertex)\n",
    "dfs2(graph,start_vertex)"
   ]
  },
  {
   "cell_type": "code",
   "execution_count": 6,
   "metadata": {},
   "outputs": [
    {
     "name": "stdout",
     "output_type": "stream",
     "text": [
      "Final State:\n",
      "[[1 2 3]\n",
      " [8 0 4]\n",
      " [7 6 5]]\n"
     ]
    }
   ],
   "source": [
    "import numpy as np\n",
    "\n",
    "# Define the initial and final states\n",
    "initial_state = np.array([[2, 8, 3],\n",
    "                          [1, 6, 4],\n",
    "                          [7, 0, 5]])\n",
    "\n",
    "final_state = np.array([[1, 2, 3],\n",
    "                        [8, 0, 4],\n",
    "                        [7, 6, 5]])\n",
    "\n",
    "\n",
    "# Define the heuristic function\n",
    "def heuristic(state):\n",
    "    # A simple heuristic: count the number of misplaced tiles\n",
    "    return np.sum(state != final_state)\n",
    "\n",
    "\n",
    "from queue import PriorityQueue\n",
    "\n",
    "# Implement the A* algorithm\n",
    "def astar(initial_state, final_state, heuristic):\n",
    "    priority_queue = PriorityQueue()\n",
    "    priority_queue.put((heuristic(initial_state), 0, initial_state.tolist()))\n",
    "    visited = set()\n",
    "\n",
    "    while not priority_queue.empty():\n",
    "        _, cost, current_state = priority_queue.get()\n",
    "        current_state = np.array(current_state)\n",
    "\n",
    "        if np.array_equal(current_state, final_state):\n",
    "            return current_state\n",
    "\n",
    "        if tuple(current_state.flatten()) in visited:\n",
    "            continue\n",
    "\n",
    "        visited.add(tuple(current_state.flatten()))\n",
    "\n",
    "        # Generate neighbors\n",
    "        zero_position = np.argwhere(current_state == 0)[0]\n",
    "        moves = [(0, 1), (1, 0), (0, -1), (-1, 0)]\n",
    "\n",
    "        for move in moves:\n",
    "            new_position = zero_position + move\n",
    "            if 0 <= new_position[0] < 3 and 0 <= new_position[1] < 3:\n",
    "                new_state = current_state.copy()\n",
    "                new_state[zero_position[0], zero_position[1]] = current_state[new_position[0], new_position[1]]\n",
    "                new_state[new_position[0], new_position[1]] = 0\n",
    "\n",
    "                if tuple(new_state.flatten()) not in visited:\n",
    "                    priority_queue.put((heuristic(new_state) + cost + 1, cost + 1, new_state.tolist()))\n",
    "\n",
    "    return None\n",
    "\n",
    "\n",
    "# Call the A* algorithm with the initial and final states\n",
    "result = astar(initial_state, final_state, heuristic)\n",
    "\n",
    "# Print the result or perform further actions as needed\n",
    "if result is not None:\n",
    "    print(\"Final State:\")\n",
    "    print(result)\n",
    "else:\n",
    "    print(\"A* algorithm did not find a solution.\")"
   ]
  }
 ],
 "metadata": {
  "kernelspec": {
   "display_name": "Python 3",
   "language": "python",
   "name": "python3"
  },
  "language_info": {
   "codemirror_mode": {
    "name": "ipython",
    "version": 3
   },
   "file_extension": ".py",
   "mimetype": "text/x-python",
   "name": "python",
   "nbconvert_exporter": "python",
   "pygments_lexer": "ipython3",
   "version": "3.10.13"
  }
 },
 "nbformat": 4,
 "nbformat_minor": 2
}
